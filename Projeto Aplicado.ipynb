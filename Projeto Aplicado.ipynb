{
 "cells": [
  {
   "cell_type": "markdown",
   "metadata": {},
   "source": [
    "### Importando bibliotecas necessárias"
   ]
  },
  {
   "cell_type": "code",
   "execution_count": 3,
   "metadata": {},
   "outputs": [],
   "source": [
    "import requests\n",
    "from datetime import datetime\n",
    "import pandas as pd\n",
    "import pandas_profiling\n",
    "import pprint\n",
    "import json\n",
    "from IPython.display import display\n",
    "from concurrent.futures import ThreadPoolExecutor\n",
    "from elasticsearch import Elasticsearch\n",
    "from elasticsearch import helpers\n",
    "es_client = Elasticsearch(http_compress=True)"
   ]
  },
  {
   "cell_type": "code",
   "execution_count": 4,
   "metadata": {},
   "outputs": [],
   "source": [
    "pp = pprint.PrettyPrinter(indent=4)\n",
    "pd.set_option('display.max_colwidth',100)"
   ]
  },
  {
   "cell_type": "markdown",
   "metadata": {},
   "source": [
    "## Processo de ETL"
   ]
  },
  {
   "cell_type": "markdown",
   "metadata": {},
   "source": [
    "### Etapa de **extração dos dados**"
   ]
  },
  {
   "cell_type": "markdown",
   "metadata": {},
   "source": [
    "#### Função que recupera a lista de todos os deputados"
   ]
  },
  {
   "cell_type": "code",
   "execution_count": 5,
   "metadata": {},
   "outputs": [],
   "source": [
    "def listaDeputados(url):\n",
    "    headers = {'accept': 'application/json'}\n",
    "    r = requests.get(url, headers=headers)\n",
    "    return r.json()['dados']"
   ]
  },
  {
   "cell_type": "markdown",
   "metadata": {},
   "source": [
    "#### Carrega lista de deputados em um dataframe pandas"
   ]
  },
  {
   "cell_type": "code",
   "execution_count": 6,
   "metadata": {},
   "outputs": [],
   "source": [
    "deputados = pd.DataFrame(listaDeputados('https://dadosabertos.camara.leg.br/api/v2/deputados?ordem=ASC&ordenarPor=nome'))"
   ]
  },
  {
   "cell_type": "code",
   "execution_count": 7,
   "metadata": {},
   "outputs": [
    {
     "data": {
      "text/plain": [
       "email            513\n",
       "id               513\n",
       "idLegislatura    513\n",
       "nome             513\n",
       "siglaPartido     513\n",
       "siglaUf          513\n",
       "uri              513\n",
       "uriPartido       513\n",
       "urlFoto          513\n",
       "dtype: int64"
      ]
     },
     "execution_count": 7,
     "metadata": {},
     "output_type": "execute_result"
    }
   ],
   "source": [
    "deputados.count()"
   ]
  },
  {
   "cell_type": "markdown",
   "metadata": {},
   "source": [
    "#### Função que recupera para cada deputado todas as despesas do ano de 2019  \n"
   ]
  },
  {
   "cell_type": "code",
   "execution_count": 10,
   "metadata": {},
   "outputs": [
    {
     "name": "stdout",
     "output_type": "stream",
     "text": [
      "Progress: [####################################################################################################] 100.0%\n"
     ]
    }
   ],
   "source": [
    "despesas = {}\n",
    "list_dataframes = []\n",
    "list_deputados = deputados.head(5)\n",
    "for index, row in list_deputados.iterrows():\n",
    "    pagina = 1\n",
    "    while True:\n",
    "        url = f\"https://dadosabertos.camara.leg.br/api/v2/deputados/{row['id']}/despesas?ano=2019&pagina={pagina}&itens=100&ordem=ASC&ordenarPor=dataDocumento\"\n",
    "        headers = {'accept': 'application/json'}\n",
    "        r = requests.get(url, headers=headers)\n",
    "        if not r.json()['dados']:\n",
    "            break\n",
    "        desp_dep = pd.DataFrame(r.json()['dados'])\n",
    "        desp_dep['dep_id'] = row['id']\n",
    "        desp_dep['dep_nome'] = row['nome']\n",
    "        desp_dep['dep_partido'] = row['siglaPartido']\n",
    "        desp_dep['dep_uf'] = row['siglaUf']\n",
    "        list_dataframes.append(desp_dep)\n",
    "        pagina = pagina + 1\n",
    "        update_progress(index/(len(list_deputados)-1))\n",
    "despesas = pd.concat(list_dataframes)"
   ]
  },
  {
   "cell_type": "markdown",
   "metadata": {},
   "source": [
    "### Etapa de **transformação dos dados**  "
   ]
  },
  {
   "cell_type": "markdown",
   "metadata": {},
   "source": [
    "### Limpeza dos dados coletados\n",
    "#### Nessa etapa será realizada a limpeza e adequação do dados baseado em uma análise utilizando a biblioteca `pandas_profile` através do comando `despesas.profile_report(style={'full_width':True})`\n",
    "- Remoção de colunas desnecessárias do DataFrame, colunas que não contém dados ou já possuem representatividade em outra coluna do DataFrame\n",
    "- Adequação de campos Nulos, inserindo valores padrão nessas posições\n",
    "- Conversão dos tipos de dados para numerico e data"
   ]
  },
  {
   "cell_type": "code",
   "execution_count": null,
   "metadata": {},
   "outputs": [],
   "source": [
    "despesas.profile_report(style={'full_width':True})"
   ]
  },
  {
   "cell_type": "markdown",
   "metadata": {},
   "source": [
    "**Excluindo colunas desnecessárias**"
   ]
  },
  {
   "cell_type": "code",
   "execution_count": 10,
   "metadata": {},
   "outputs": [],
   "source": [
    "despesas.drop(columns=['ano','codLote','parcela','urlDocumento','valorLiquido'],inplace=True)"
   ]
  },
  {
   "cell_type": "markdown",
   "metadata": {},
   "source": [
    "**Ajustando os tipos de dados**  \n",
    "Transforma a data para o tipo datetime, caso o campo esteja vazio define a data como sendo o último dia do ano de 2018."
   ]
  },
  {
   "cell_type": "code",
   "execution_count": 39,
   "metadata": {},
   "outputs": [],
   "source": [
    "despesas['dataDocumento'] = despesas['dataDocumento'].apply(lambda x: pd.to_datetime(x) if not pd.isna(x) else datetime(2018,12,31,0,0))"
   ]
  },
  {
   "cell_type": "code",
   "execution_count": 20,
   "metadata": {},
   "outputs": [
    {
     "data": {
      "text/plain": [
       "cnpjCpfFornecedor            object\n",
       "codDocumento                  int64\n",
       "codTipoDocumento              int64\n",
       "dataDocumento        datetime64[ns]\n",
       "mes                           int64\n",
       "nomeFornecedor               object\n",
       "numDocumento                 object\n",
       "numRessarcimento             object\n",
       "tipoDespesa                  object\n",
       "tipoDocumento                object\n",
       "valorDocumento              float64\n",
       "valorGlosa                  float64\n",
       "dep_id                        int64\n",
       "dep_nome                     object\n",
       "dep_partido                  object\n",
       "dep_uf                       object\n",
       "dtype: object"
      ]
     },
     "execution_count": 20,
     "metadata": {},
     "output_type": "execute_result"
    }
   ],
   "source": [
    "despesas.dtypes"
   ]
  },
  {
   "cell_type": "code",
   "execution_count": 15,
   "metadata": {},
   "outputs": [
    {
     "data": {
      "text/plain": [
       "Emissão Bilhete Aéreo                                        7548\n",
       "COMBUSTÍVEIS E LUBRIFICANTES.                                7263\n",
       "SERVIÇO DE TÁXI, PEDÁGIO E ESTACIONAMENTO                    3345\n",
       "MANUTENÇÃO DE ESCRITÓRIO DE APOIO À ATIVIDADE PARLAMENTAR    2522\n",
       "FORNECIMENTO DE ALIMENTAÇÃO DO PARLAMENTAR                   2319\n",
       "TELEFONIA                                                    2232\n",
       "SERVIÇOS POSTAIS                                             1955\n",
       "DIVULGAÇÃO DA ATIVIDADE PARLAMENTAR.                          908\n",
       "HOSPEDAGEM ,EXCETO DO PARLAMENTAR NO DISTRITO FEDERAL.        629\n",
       "LOCAÇÃO OU FRETAMENTO DE VEÍCULOS AUTOMOTORES                 554\n",
       "PASSAGENS AÉREAS                                              391\n",
       "CONSULTORIAS, PESQUISAS E TRABALHOS TÉCNICOS.                 221\n",
       "PASSAGENS TERRESTRES, MARÍTIMAS OU FLUVIAIS                   146\n",
       "ASSINATURA DE PUBLICAÇÕES                                      83\n",
       "SERVIÇO DE SEGURANÇA PRESTADO POR EMPRESA ESPECIALIZADA.       61\n",
       "LOCAÇÃO OU FRETAMENTO DE AERONAVES                             20\n",
       "LOCAÇÃO OU FRETAMENTO DE EMBARCAÇÕES                           10\n",
       "PARTICIPAÇÃO EM CURSO, PALESTRA OU EVENTO SIMILAR               1\n",
       "Name: tipoDespesa, dtype: int64"
      ]
     },
     "execution_count": 15,
     "metadata": {},
     "output_type": "execute_result"
    }
   ],
   "source": [
    "despesas['tipoDespesa'].value_counts()"
   ]
  },
  {
   "cell_type": "code",
   "execution_count": 40,
   "metadata": {},
   "outputs": [
    {
     "data": {
      "text/plain": [
       "ano                  0\n",
       "cnpjCpfFornecedor    0\n",
       "codDocumento         0\n",
       "codLote              0\n",
       "codTipoDocumento     0\n",
       "dataDocumento        0\n",
       "mes                  0\n",
       "nomeFornecedor       0\n",
       "numDocumento         0\n",
       "numRessarcimento     0\n",
       "parcela              0\n",
       "tipoDespesa          0\n",
       "tipoDocumento        0\n",
       "urlDocumento         0\n",
       "valorDocumento       0\n",
       "valorGlosa           0\n",
       "valorLiquido         0\n",
       "dep_id               0\n",
       "dep_nome             0\n",
       "dep_partido          0\n",
       "dep_uf               0\n",
       "dtype: int64"
      ]
     },
     "execution_count": 40,
     "metadata": {},
     "output_type": "execute_result"
    }
   ],
   "source": [
    "despesas.isna().sum()"
   ]
  },
  {
   "cell_type": "code",
   "execution_count": 37,
   "metadata": {},
   "outputs": [
    {
     "name": "stdout",
     "output_type": "stream",
     "text": [
      "<class 'pandas.core.frame.DataFrame'>\n",
      "Int64Index: 716 entries, 0 to 1\n",
      "Data columns (total 21 columns):\n",
      "ano                  716 non-null int64\n",
      "cnpjCpfFornecedor    716 non-null object\n",
      "codDocumento         716 non-null int64\n",
      "codLote              716 non-null int64\n",
      "codTipoDocumento     716 non-null int64\n",
      "dataDocumento        691 non-null object\n",
      "mes                  716 non-null int64\n",
      "nomeFornecedor       716 non-null object\n",
      "numDocumento         716 non-null object\n",
      "numRessarcimento     716 non-null object\n",
      "parcela              716 non-null int64\n",
      "tipoDespesa          716 non-null object\n",
      "tipoDocumento        716 non-null object\n",
      "urlDocumento         716 non-null object\n",
      "valorDocumento       716 non-null float64\n",
      "valorGlosa           716 non-null float64\n",
      "valorLiquido         716 non-null float64\n",
      "dep_id               716 non-null int64\n",
      "dep_nome             716 non-null object\n",
      "dep_partido          716 non-null object\n",
      "dep_uf               716 non-null object\n",
      "dtypes: float64(3), int64(7), object(11)\n",
      "memory usage: 648.1 KB\n"
     ]
    }
   ],
   "source": [
    "despesas.info(memory_usage='deep')"
   ]
  },
  {
   "cell_type": "markdown",
   "metadata": {},
   "source": [
    "### Carga dos dados para o banco elasticsearch"
   ]
  },
  {
   "cell_type": "code",
   "execution_count": 30,
   "metadata": {},
   "outputs": [],
   "source": [
    "use_these_keys = despesas.columns.to_list()\n",
    "def filterKeys(document):\n",
    "    return {key: document[key] for key in use_these_keys }"
   ]
  },
  {
   "cell_type": "code",
   "execution_count": 31,
   "metadata": {},
   "outputs": [],
   "source": [
    "def doc_generator(df):\n",
    "    df_iter = df.iterrows()\n",
    "    for index, document in df_iter:\n",
    "        yield {\n",
    "                \"_index\": 'teste',\n",
    "                \"_type\": \"_doc\",\n",
    "                \"_source\": filterKeys(document),\n",
    "            }\n",
    "    raise StopIteration"
   ]
  },
  {
   "cell_type": "code",
   "execution_count": 32,
   "metadata": {},
   "outputs": [
    {
     "name": "stdout",
     "output_type": "stream",
     "text": [
      "Fim do carregamento para o Elasticsearch\n"
     ]
    }
   ],
   "source": [
    "try:\n",
    "    helpers.bulk(es_client, doc_generator(despesas))\n",
    "except:\n",
    "    print('Fim do carregamento para o Elasticsearch')"
   ]
  },
  {
   "cell_type": "code",
   "execution_count": null,
   "metadata": {},
   "outputs": [],
   "source": [
    "for i in doc_generator(despesas):\n",
    "    helpers.bulk(es_client, i)\n",
    "print('Fim do carregamento para o Elasticsearch')"
   ]
  },
  {
   "cell_type": "code",
   "execution_count": 7,
   "metadata": {},
   "outputs": [
    {
     "data": {
      "text/plain": [
       "{'acknowledged': True, 'shards_acknowledged': True, 'index': 'test-index'}"
      ]
     },
     "execution_count": 7,
     "metadata": {},
     "output_type": "execute_result"
    }
   ],
   "source": [
    "es_client.indices.create(index='test-index', ignore=400)"
   ]
  },
  {
   "cell_type": "markdown",
   "metadata": {},
   "source": [
    "### Funções auxiliares"
   ]
  },
  {
   "cell_type": "code",
   "execution_count": 9,
   "metadata": {},
   "outputs": [],
   "source": [
    "import time, sys\n",
    "from IPython.display import clear_output\n",
    "\n",
    "def update_progress(progress):\n",
    "    bar_length = 100\n",
    "    if isinstance(progress, int):\n",
    "        progress = float(progress)\n",
    "    if not isinstance(progress, float):\n",
    "        progress = 0\n",
    "    if progress < 0:\n",
    "        progress = 0\n",
    "    if progress >= 1:\n",
    "        progress = 1\n",
    "\n",
    "    block = int(round(bar_length * progress))\n",
    "\n",
    "    clear_output(wait = True)\n",
    "    text = \"Progress: [{0}] {1:.1f}%\".format( \"#\" * block + \"-\" * (bar_length - block), progress * 100)\n",
    "    print(text)"
   ]
  },
  {
   "cell_type": "markdown",
   "metadata": {},
   "source": [
    "### Testes"
   ]
  },
  {
   "cell_type": "code",
   "execution_count": null,
   "metadata": {},
   "outputs": [],
   "source": [
    "despesas.loc[despesas['dep_nome'].str.contains('AB')][['tipoDespesa','dataDocumento','dep_nome','valorDocumento']].groupby(by=['dep_nome','tipoDespesa']).agg(['sum','count','mean'])"
   ]
  },
  {
   "cell_type": "code",
   "execution_count": null,
   "metadata": {},
   "outputs": [],
   "source": [
    "despesas.loc[despesas['dep_nome'].str.contains('AB'),['tipoDespesa','dataDocumento','dep_nome','valorDocumento']].groupby(by=['dep_nome','tipoDespesa']).agg(['sum','count','mean'])"
   ]
  },
  {
   "cell_type": "code",
   "execution_count": null,
   "metadata": {},
   "outputs": [],
   "source": [
    "deputados.loc[deputados['nome'].str.contains('Tabata.*', regex=True, case=False)]['uri']"
   ]
  },
  {
   "cell_type": "code",
   "execution_count": null,
   "metadata": {},
   "outputs": [],
   "source": [
    "listaDeputados('https://dadosabertos.camara.leg.br/api/v2/deputados?ordem=ASC&ordenarPor=nome')"
   ]
  },
  {
   "cell_type": "code",
   "execution_count": null,
   "metadata": {},
   "outputs": [],
   "source": [
    "despesas[(despesas['tipoDespesa'].str.contains('COMBUSTÍVEIS'))].groupby(by=['nomeFornecedor'])['valorDocumento'].count().sort_values(ascending=False)"
   ]
  },
  {
   "cell_type": "code",
   "execution_count": null,
   "metadata": {},
   "outputs": [],
   "source": [
    "despesas[(despesas['tipoDespesa'].str.contains('COMBUSTÍVEIS'))].groupby(by=['nomeFornecedor'])['valorDocumento'].sum().sort_values(ascending=False)"
   ]
  },
  {
   "cell_type": "code",
   "execution_count": null,
   "metadata": {},
   "outputs": [],
   "source": [
    "despesas.loc[(despesas['nomeFornecedor'].str.contains('CASCOL COMBUSTIVEIS'))]"
   ]
  },
  {
   "cell_type": "code",
   "execution_count": null,
   "metadata": {},
   "outputs": [],
   "source": [
    "despesas[(despesas['cnpjCpfFornecedor']==\"17895646000187\")].head()"
   ]
  }
 ],
 "metadata": {
  "kernelspec": {
   "display_name": "Python 3",
   "language": "python",
   "name": "python3"
  },
  "language_info": {
   "codemirror_mode": {
    "name": "ipython",
    "version": 3
   },
   "file_extension": ".py",
   "mimetype": "text/x-python",
   "name": "python",
   "nbconvert_exporter": "python",
   "pygments_lexer": "ipython3",
   "version": "3.7.3"
  }
 },
 "nbformat": 4,
 "nbformat_minor": 4
}
